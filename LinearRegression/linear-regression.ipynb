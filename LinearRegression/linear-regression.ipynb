{
 "cells": [
  {
   "cell_type": "markdown",
   "metadata": {},
   "source": [
    "### Hypothesis:\n",
    "h(x) = β0 + β1x\n",
    "\n",
    "### Cross deviations of x & y:\n",
    "ss_xy = ∑(xi - x̅)(yi - y̅)\n",
    "\n",
    "### Squared deviations of x:\n",
    "ss_xx = ∑(xi - x̅)(xi - x̅)\n",
    "\n",
    "### Slop:\n",
    "β1 = ss_xy / ss_xx\n",
    "\n",
    "### Intercept:\n",
    "β0 = y̅ - β1x̅\n",
    "\n",
    "### Notation: \n",
    "β0 = intercept\n",
    "β1 = slop\n",
    "xi = ith of x\n",
    "yi = ith of y\n",
    "x̅ = mean of x\n",
    "y̅ = mean of y"
   ]
  },
  {
   "cell_type": "code",
   "execution_count": 1,
   "metadata": {},
   "outputs": [],
   "source": [
    "import matplotlib.pyplot as plt\n",
    "import pandas as pd\n",
    "import numpy as np"
   ]
  },
  {
   "cell_type": "code",
   "execution_count": 2,
   "metadata": {
    "scrolled": true
   },
   "outputs": [],
   "source": [
    "dataset = pd.read_csv('../dataset/housing.csv')\n",
    "x = dataset['Size'].values\n",
    "y = dataset['Price'].values"
   ]
  },
  {
   "cell_type": "code",
   "execution_count": 3,
   "metadata": {},
   "outputs": [
    {
     "data": {
      "text/plain": [
       "array([2104, 1600, 2400, 1416, 3000, 1985, 1534, 1427, 1380, 1494, 1940,\n",
       "       2000, 1890, 4478, 1268, 2300, 1320, 1236, 2609, 3031, 1767, 1888,\n",
       "       1604, 1962, 3890, 1100, 1458, 2526, 2200, 2637, 1839, 1000, 2040,\n",
       "       3137, 1811, 1437, 1239, 2132, 4215, 2162, 1664, 2238, 2567, 1200,\n",
       "        852, 1852, 1203])"
      ]
     },
     "execution_count": 3,
     "metadata": {},
     "output_type": "execute_result"
    }
   ],
   "source": [
    "x"
   ]
  },
  {
   "cell_type": "code",
   "execution_count": 4,
   "metadata": {},
   "outputs": [
    {
     "data": {
      "text/plain": [
       "array([399900, 329900, 369000, 232000, 539900, 299900, 314900, 198999,\n",
       "       212000, 242500, 239999, 347000, 329999, 699900, 259900, 449900,\n",
       "       299900, 199900, 499998, 599000, 252900, 255000, 242900, 259900,\n",
       "       573900, 249900, 464500, 469000, 475000, 299900, 349900, 169900,\n",
       "       314900, 579900, 285900, 249900, 229900, 345000, 549000, 287000,\n",
       "       368500, 329900, 314000, 299000, 179900, 299900, 239500])"
      ]
     },
     "execution_count": 4,
     "metadata": {},
     "output_type": "execute_result"
    }
   ],
   "source": [
    "y"
   ]
  },
  {
   "cell_type": "code",
   "execution_count": 5,
   "metadata": {},
   "outputs": [],
   "source": [
    "n = np.size(x)\n",
    "m_x, m_y = np.mean(x), np.mean(y)\n",
    "\n",
    "ss_xy = np.sum(y * x - n * m_y * m_x)\n",
    "ss_xx = np.sum(x * x - n * m_x * m_x)\n",
    "\n",
    "b1 = ss_xy / ss_xx\n",
    "b0 = m_y - b1 * m_x"
   ]
  },
  {
   "cell_type": "code",
   "execution_count": 6,
   "metadata": {},
   "outputs": [
    {
     "data": {
      "text/plain": [
       "170.2683976971542"
      ]
     },
     "execution_count": 6,
     "metadata": {},
     "output_type": "execute_result"
    }
   ],
   "source": [
    "b1"
   ]
  },
  {
   "cell_type": "code",
   "execution_count": 7,
   "metadata": {},
   "outputs": [
    {
     "data": {
      "text/plain": [
       "-240.06323954899563"
      ]
     },
     "execution_count": 7,
     "metadata": {},
     "output_type": "execute_result"
    }
   ],
   "source": [
    "b0"
   ]
  },
  {
   "cell_type": "code",
   "execution_count": 8,
   "metadata": {},
   "outputs": [],
   "source": [
    "y_pred = b0 + b1 * x"
   ]
  },
  {
   "cell_type": "code",
   "execution_count": 9,
   "metadata": {},
   "outputs": [
    {
     "data": {
      "text/plain": [
       "array([358004.64551526, 272189.3730759 , 408404.09123362, 240859.98789962,\n",
       "       510565.12985191, 337742.7061893 , 260951.65882789, 242732.94027429,\n",
       "       234730.32558252, 254140.92292   , 330080.62829293, 340296.73215476,\n",
       "       321567.20840807, 762221.82164831, 215660.26504044, 391377.25146391,\n",
       "       224514.22172069, 210211.67631413, 443990.18635233, 515843.45018053,\n",
       "       300624.19549132, 321226.67161268, 272870.44666669, 333826.53304227,\n",
       "       662104.00380238, 187055.17422732, 248011.2606029 , 429857.90934346,\n",
       "       374350.41169419, 448757.70148785, 312883.52012552, 170028.33445761,\n",
       "       347107.46806265, 533891.90033642, 308116.00499   , 244435.62425126,\n",
       "       210722.48150723, 362772.16065078, 717441.23305396, 367880.2125817 ,\n",
       "       283086.55052852, 380820.61080668, 436838.91364905, 204082.01399704,\n",
       "       144828.61159843, 315097.00929558, 204592.81919013])"
      ]
     },
     "execution_count": 9,
     "metadata": {},
     "output_type": "execute_result"
    }
   ],
   "source": [
    "y_pred"
   ]
  },
  {
   "cell_type": "code",
   "execution_count": 10,
   "metadata": {},
   "outputs": [
    {
     "data": {
      "image/png": "[encoded data removed]",
      "text/plain": [
       "<Figure size 432x288 with 1 Axes>"
      ]
     },
     "metadata": {},
     "output_type": "display_data"
    }
   ],
   "source": [
    "plt.scatter(x, y,  color='green', label='Train Data')\n",
    "plt.plot(x, y_pred, color='red', linewidth=3)\n",
    "plt.xlabel('Size')\n",
    "plt.ylabel('Price')\n",
    "plt.xticks(())\n",
    "plt.yticks(())\n",
    "plt.legend(loc = 'upper left')\n",
    "plt.title('Linear Regression')\n",
    "\n",
    "plt.show()"
   ]
  }
 ],
 "metadata": {
  "kernelspec": {
   "display_name": "Python 3",
   "language": "python",
   "name": "python3"
  },
  "language_info": {
   "codemirror_mode": {
    "name": "ipython",
    "version": 3
   },
   "file_extension": ".py",
   "mimetype": "text/x-python",
   "name": "python",
   "nbconvert_exporter": "python",
   "pygments_lexer": "ipython3",
   "version": "3.6.5"
  }
 },
 "nbformat": 4,
 "nbformat_minor": 2
}
