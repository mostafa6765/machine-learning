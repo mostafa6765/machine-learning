{
 "cells": [
  {
   "cell_type": "code",
   "execution_count": 1,
   "metadata": {},
   "outputs": [],
   "source": [
    "import matplotlib.pyplot as plt\n",
    "import pandas as pd\n",
    "from sklearn import linear_model\n",
    "from sklearn.model_selection import train_test_split"
   ]
  },
  {
   "cell_type": "code",
   "execution_count": 3,
   "metadata": {
    "scrolled": true
   },
   "outputs": [],
   "source": [
    "dataset = pd.read_csv('../dataset/housing.csv')\n",
    "X = dataset['Size'].values\n",
    "Y = dataset['Price'].values"
   ]
  },
  {
   "cell_type": "code",
   "execution_count": 4,
   "metadata": {},
   "outputs": [
    {
     "data": {
      "text/plain": [
       "array([2104, 1600, 2400, 1416, 3000, 1985, 1534, 1427, 1380, 1494, 1940,\n",
       "       2000, 1890, 4478, 1268, 2300, 1320, 1236, 2609, 3031, 1767, 1888,\n",
       "       1604, 1962, 3890, 1100, 1458, 2526, 2200, 2637, 1839, 1000, 2040,\n",
       "       3137, 1811, 1437, 1239, 2132, 4215, 2162, 1664, 2238, 2567, 1200,\n",
       "        852, 1852, 1203])"
      ]
     },
     "execution_count": 4,
     "metadata": {},
     "output_type": "execute_result"
    }
   ],
   "source": [
    "X"
   ]
  },
  {
   "cell_type": "code",
   "execution_count": 4,
   "metadata": {},
   "outputs": [
    {
     "data": {
      "text/plain": [
       "array([399900, 329900, 369000, 232000, 539900, 299900, 314900, 198999,\n",
       "       212000, 242500, 239999, 347000, 329999, 699900, 259900, 449900,\n",
       "       299900, 199900, 499998, 599000, 252900, 255000, 242900, 259900,\n",
       "       573900, 249900, 464500, 469000, 475000, 299900, 349900, 169900,\n",
       "       314900, 579900, 285900, 249900, 229900, 345000, 549000, 287000,\n",
       "       368500, 329900, 314000, 299000, 179900, 299900, 239500])"
      ]
     },
     "execution_count": 4,
     "metadata": {},
     "output_type": "execute_result"
    }
   ],
   "source": [
    "Y"
   ]
  },
  {
   "cell_type": "code",
   "execution_count": 5,
   "metadata": {},
   "outputs": [],
   "source": [
    "X = X.reshape((len(X), 1))"
   ]
  },
  {
   "cell_type": "code",
   "execution_count": 6,
   "metadata": {},
   "outputs": [
    {
     "data": {
      "text/plain": [
       "array([[2104],\n",
       "       [1600],\n",
       "       [2400],\n",
       "       [1416],\n",
       "       [3000],\n",
       "       [1985],\n",
       "       [1534],\n",
       "       [1427],\n",
       "       [1380],\n",
       "       [1494],\n",
       "       [1940],\n",
       "       [2000],\n",
       "       [1890],\n",
       "       [4478],\n",
       "       [1268],\n",
       "       [2300],\n",
       "       [1320],\n",
       "       [1236],\n",
       "       [2609],\n",
       "       [3031],\n",
       "       [1767],\n",
       "       [1888],\n",
       "       [1604],\n",
       "       [1962],\n",
       "       [3890],\n",
       "       [1100],\n",
       "       [1458],\n",
       "       [2526],\n",
       "       [2200],\n",
       "       [2637],\n",
       "       [1839],\n",
       "       [1000],\n",
       "       [2040],\n",
       "       [3137],\n",
       "       [1811],\n",
       "       [1437],\n",
       "       [1239],\n",
       "       [2132],\n",
       "       [4215],\n",
       "       [2162],\n",
       "       [1664],\n",
       "       [2238],\n",
       "       [2567],\n",
       "       [1200],\n",
       "       [ 852],\n",
       "       [1852],\n",
       "       [1203]])"
      ]
     },
     "execution_count": 6,
     "metadata": {},
     "output_type": "execute_result"
    }
   ],
   "source": [
    "X"
   ]
  },
  {
   "cell_type": "code",
   "execution_count": 7,
   "metadata": {},
   "outputs": [
    {
     "name": "stderr",
     "output_type": "stream",
     "text": [
      "/usr/local/lib/python3.6/site-packages/sklearn/linear_model/base.py:509: RuntimeWarning: internal gelsd driver lwork query error, required iwork dimension not returned. This is likely the result of LAPACK bug 0038, fixed in LAPACK 3.2.2 (released July 21, 2010). Falling back to 'gelss' driver.\n",
      "  linalg.lstsq(X, y)\n"
     ]
    },
    {
     "data": {
      "image/png": "[encoded data removed]",
      "text/plain": [
       "<Figure size 432x288 with 1 Axes>"
      ]
     },
     "metadata": {},
     "output_type": "display_data"
    }
   ],
   "source": [
    "X_train, X_test, Y_train, Y_test = train_test_split(X, Y, test_size=0.4, random_state=1)\n",
    "\n",
    "regr = linear_model.LinearRegression()\n",
    "regr.fit(X_train, Y_train)\n",
    "Y_pred = regr.predict(X_test)\n",
    "\n",
    "plt.scatter(X_train, Y_train,  color='green', label='Train Data')\n",
    "plt.scatter(X_test, Y_test,  color='blue', label='Test Data')\n",
    "plt.plot(X_test, Y_pred, color='red', linewidth=3)\n",
    "plt.xlabel('Size')\n",
    "plt.ylabel('Price')\n",
    "plt.xticks(())\n",
    "plt.yticks(())\n",
    "plt.legend(loc = 'upper left')\n",
    "plt.title('Linear Regression')\n",
    "\n",
    "plt.show()"
   ]
  }
 ],
 "metadata": {
  "kernelspec": {
   "display_name": "Python 3",
   "language": "python",
   "name": "python3"
  },
  "language_info": {
   "codemirror_mode": {
    "name": "ipython",
    "version": 3
   },
   "file_extension": ".py",
   "mimetype": "text/x-python",
   "name": "python",
   "nbconvert_exporter": "python",
   "pygments_lexer": "ipython3",
   "version": "3.6.5"
  }
 },
 "nbformat": 4,
 "nbformat_minor": 2
}
